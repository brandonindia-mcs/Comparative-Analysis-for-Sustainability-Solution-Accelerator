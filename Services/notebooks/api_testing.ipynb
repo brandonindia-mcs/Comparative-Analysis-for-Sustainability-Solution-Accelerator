{
 "cells": [
  {
   "cell_type": "markdown",
   "metadata": {},
   "source": [
    "# API Testing\n",
    "\n",
    "It is optional yet recommend to utilize a Python virtual environment:\n",
    "\n",
    "1. Create virtual environment:<br/>`python3 -m venv .venv`\n",
    "1. Activate virtual environment:\n",
    "    * Windows: `.\\.venv\\Scripts\\activate`\n",
    "    * Linux or macOS: `source ./.venv/bin/activate`\n"
   ]
  },
  {
   "cell_type": "code",
   "execution_count": null,
   "metadata": {},
   "outputs": [],
   "source": [
    "!pip install requests"
   ]
  },
  {
   "cell_type": "code",
   "execution_count": null,
   "metadata": {},
   "outputs": [],
   "source": [
    "import requests\n",
    "import json"
   ]
  },
  {
   "cell_type": "markdown",
   "metadata": {},
   "source": [
    "## Test Params"
   ]
  },
  {
   "cell_type": "code",
   "execution_count": null,
   "metadata": {},
   "outputs": [],
   "source": [
    "# Deployment Details\n",
    "deploy_num = \"\"\n",
    "deploy_region = \"\"\n",
    "\n",
    "# Optionally hardcoded document IDs, otherwise first 2x docs dynamically used\n",
    "doc1 = \"\"\n",
    "doc2 = \"\""
   ]
  },
  {
   "cell_type": "markdown",
   "metadata": {},
   "source": [
    "## Define API"
   ]
  },
  {
   "cell_type": "code",
   "execution_count": null,
   "metadata": {},
   "outputs": [],
   "source": [
    "# Define the API endpoint\n",
    "api_service = f\"https://esgdocanalysis-{deploy_num}.{deploy_region}.cloudapp.azure.com\"\n",
    "\n",
    "# Define API GET endpoints\n",
    "api_get_docs = f\"{api_service}/DocumentManager/GetAllDocuments\"\n",
    "api_get_gaps = f\"{api_service}/ESRS/GetAllESRSGapAnalysisResults\"\n",
    "api_get_benchmarks = f\"{api_service}/ESRS/GetAllESRSBenchmarkResults\"\n",
    "\n",
    "# Define API POST endpoints\n",
    "api_post_docreg = f\"{api_service}/DocumentManager/RegisterDocument\"\n",
    "api_post_askdoc = f\"{api_service}/DocumentManager/AskAgainstDocument\"\n",
    "api_post_gap = f\"{api_service}/ESRS/ESRSGapAnalyzerOnQueue\"\n",
    "api_post_benchmark = f\"{api_service}/ESRS/ESRSDisclosureBenchmarkOnQueue\""
   ]
  },
  {
   "cell_type": "markdown",
   "metadata": {},
   "source": [
    "## Reusable Functions"
   ]
  },
  {
   "cell_type": "code",
   "execution_count": null,
   "metadata": {},
   "outputs": [],
   "source": [
    "# GET request\n",
    "def get_request(url):\n",
    "  print(f\"GET Request: {url}\")\n",
    "  try:\n",
    "    response = requests.get(url)\n",
    "    # print(\"GET Response:\", response.status_code, response.text)\n",
    "    # return response\n",
    "    return json.loads(response.text)\n",
    "  except requests.exceptions.RequestException as e:\n",
    "    print(\"GET ERROR:\", e)\n",
    "    return None\n",
    "\n",
    "# POST request with JSON body\n",
    "def post_request_with_json(url, json_data={}):\n",
    "  print(f\"POST Request: {url}\")\n",
    "  try:\n",
    "    response = requests.post(url, json=json_data)\n",
    "    # print(\"POST JSON Response:\", response.status_code, response.text)\n",
    "    # return response\n",
    "    return json.loads(response.text)\n",
    "  except requests.exceptions.RequestException as e:\n",
    "    print(\"POST ERROR:\", e)\n",
    "    return None\n",
    "\n",
    "# # POST request with a JSON body and file binary\n",
    "# def post_request_with_file(url, json_data={}, file_path=\"\"):\n",
    "#     print(f\"POST with File Request: {url}\")\n",
    "#     try:\n",
    "#         files = {\n",
    "#             'fileBinary': (file_path, open(file_path, 'rb'))\n",
    "#         }\n",
    "#         response = requests.post(url, data=json_data, files=files)\n",
    "#         print(\"POST File Response:\", response.status_code, response.text)\n",
    "#         return response\n",
    "#     except requests.exceptions.RequestException as e:\n",
    "#         print(\"POST FILE ERROR:\", e)\n",
    "#         return None"
   ]
  },
  {
   "cell_type": "markdown",
   "metadata": {},
   "source": [
    "## Test GET Requests"
   ]
  },
  {
   "cell_type": "markdown",
   "metadata": {},
   "source": [
    "### GET All Registered Docs"
   ]
  },
  {
   "cell_type": "code",
   "execution_count": null,
   "metadata": {},
   "outputs": [],
   "source": [
    "# Test GET All Registered Documents\n",
    "all_docs = get_request(api_get_docs)\n",
    "print(json.dumps(all_docs, indent=4))"
   ]
  },
  {
   "cell_type": "markdown",
   "metadata": {},
   "source": [
    "### GET All Gap Analysis Reports"
   ]
  },
  {
   "cell_type": "code",
   "execution_count": null,
   "metadata": {},
   "outputs": [],
   "source": [
    "# Test GET All Gap Analysis Reports\n",
    "all_gaps = get_request(api_get_gaps)\n",
    "print(json.dumps(all_gaps, indent=4))"
   ]
  },
  {
   "cell_type": "markdown",
   "metadata": {},
   "source": [
    "### GET All Benchmark Reports"
   ]
  },
  {
   "cell_type": "code",
   "execution_count": null,
   "metadata": {},
   "outputs": [],
   "source": [
    "# Test GET All Benchmark Reports\n",
    "all_benchmarks = get_request(api_get_benchmarks)\n",
    "print(json.dumps(all_benchmarks, indent=4))"
   ]
  },
  {
   "cell_type": "markdown",
   "metadata": {},
   "source": [
    "## Test POST Requests\n",
    "\n",
    "### POST Register Document"
   ]
  },
  {
   "cell_type": "code",
   "execution_count": null,
   "metadata": {},
   "outputs": [],
   "source": [
    "# For now, register docs via frontend app to ensure complete data."
   ]
  },
  {
   "cell_type": "markdown",
   "metadata": {},
   "source": [
    "### Fallback for Automatic Docs\n",
    "\n",
    "If docs not set, use first 2 items in array, which are 2 most recently registered documents"
   ]
  },
  {
   "cell_type": "code",
   "execution_count": null,
   "metadata": {},
   "outputs": [],
   "source": [
    "# Warn if doc IDs are not populated\n",
    "# Could be set dynamically from the GET API response\n",
    "if (doc1 == \"\" and doc2 == \"\"):\n",
    "  print(\"Document IDs are empty, attempting to populate...\\n\")\n",
    "\n",
    "\n",
    "  # Check if all_docs array is populated with 2 items\n",
    "  if len(all_docs) > 0 and len(all_docs) >= 2:\n",
    "    # Get the first 2x document IDs\n",
    "    doc1 = all_docs[0][\"documentId\"]\n",
    "    doc2 = all_docs[1][\"documentId\"]\n",
    "    print(f\"Dynamically set IDs:\\n* {doc1}\\n* {doc2}\")\n",
    "  \n",
    "  else:\n",
    "    print(\"No documents found. Please register documents first.\")\n",
    "else:\n",
    "  print(f\"Document IDs are hardcoded:\\n* {doc1}\\n* {doc2}\")"
   ]
  },
  {
   "cell_type": "markdown",
   "metadata": {},
   "source": [
    "### POST Ask Document"
   ]
  },
  {
   "cell_type": "code",
   "execution_count": null,
   "metadata": {},
   "outputs": [],
   "source": [
    "if doc1 != \"\":\n",
    "  post_ask = post_request_with_json(\n",
    "    api_post_askdoc,\n",
    "    json_data = {\n",
    "      \"DocumentIds\" : [doc1],\n",
    "      \"Question\" : \"What were the top sustainability efforts that could have the biggest impact?\"\n",
    "    }\n",
    "  )\n",
    "  print(json.dumps(post_ask, indent=4))"
   ]
  },
  {
   "cell_type": "markdown",
   "metadata": {},
   "source": [
    "### POST Gap Analysis"
   ]
  },
  {
   "cell_type": "code",
   "execution_count": null,
   "metadata": {},
   "outputs": [],
   "source": [
    "if doc1 != \"\":\n",
    "  post_gap = post_request_with_json(\n",
    "    api_post_gap,\n",
    "    json_data=  {\n",
    "      \"disclosureName\": \"Transition plan for climate change mitigation\",\n",
    "      \"disclosureNumber\": \"E1-1 16\",\n",
    "      \"JobOwner\" : \"Chief Sustainability Officer\",\n",
    "      \"disclosureRequirement\": \"Disclosure of transition plan for climate change mitigation\",\n",
    "      \"disclosureRequirementDetail\" : \"The undertaking shall disclose its transition plan for climate change mitigation\",\n",
    "      \"disclosureAnnex\": \"A transition plan relates to the undertaking's efforts in climate change mitigation. When disclosing its transition plan, the undertaking is expected to provide a high-level explanation of how it will adjust its strategy and business model to ensure compatibility with the transition to a sustainable economy and with the limiting of global warming to 1.5°C in line with the Paris Agreement (or an updated inter national agreement on climate change) and the objective of achieving climate neutrality by 2050 with no or limited overshoot as established in Regulation (EU) 2021/1119 (European Climate Law), and where applicable, how it will adjust its exposure to coal, and oil and gas-related activities. \",\n",
    "      \"documentId\": doc1\n",
    "    }\n",
    "  )\n",
    "  print(json.dumps(post_gap, indent=4))"
   ]
  },
  {
   "cell_type": "markdown",
   "metadata": {},
   "source": [
    "### POST Benchmark Report"
   ]
  },
  {
   "cell_type": "code",
   "execution_count": null,
   "metadata": {},
   "outputs": [],
   "source": [
    "if doc1 != \"\" and doc2 != \"\":\n",
    "  post_benchmark = post_request_with_json(\n",
    "    api_post_benchmark,\n",
    "    json_data={\n",
    "      \"jobName\": \"Test Doc1 vs Doc2 E1-1 16a Benchmark\",\n",
    "      \"documentIds\": [doc1, doc2],\n",
    "      \"jobOwner\": \"Chief Sustainability Officer\",\n",
    "      \"disclosureNumber\": \"E1-1 16a\",\n",
    "      \"disclosureName\": \"Transition plan for climate change mitigation\",\n",
    "      \"disclosureRequirement\": \"Disclosure of transition plan for climate change mitigation\",\n",
    "      \"disclosureRequirementDetail\" : \"The undertaking shall disclose its transition plan for climate change mitigation\",\n",
    "      \"disclosureAnnex\" : \"A transition plan relates to the undertaking's efforts in climate change mitigation. When disclosing its transition plan, the undertaking is expected to provide a high-level explanation of how it will adjust its strategy and business model to ensure compatibility with the transition to a sustainable economy and with the limiting of global warming to 1.5°C in line with the Paris Agreement (or an updated inter national agreement on climate change) and the objective of achieving climate neutrality by 2050 with no or limited overshoot as established in Regulation (EU) 2021/1119 (European Climate Law), and where applicable, how it will adjust its exposure to coal, and oil and gas-related activities.\"\n",
    "    }\n",
    "  )\n",
    "  print(json.dumps(post_benchmark, indent=4))"
   ]
  }
 ],
 "metadata": {
  "kernelspec": {
   "display_name": ".venv",
   "language": "python",
   "name": "python3"
  },
  "language_info": {
   "codemirror_mode": {
    "name": "ipython",
    "version": 3
   },
   "file_extension": ".py",
   "mimetype": "text/x-python",
   "name": "python",
   "nbconvert_exporter": "python",
   "pygments_lexer": "ipython3",
   "version": "3.12.8"
  }
 },
 "nbformat": 4,
 "nbformat_minor": 2
}
